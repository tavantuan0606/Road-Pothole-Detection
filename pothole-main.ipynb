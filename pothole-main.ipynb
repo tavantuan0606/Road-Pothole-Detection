{
 "cells": [
  {
   "cell_type": "markdown",
   "metadata": {
    "id": "soEfVHB8fOSh"
   },
   "source": [
    "#Data"
   ]
  },
  {
   "cell_type": "code",
   "execution_count": null,
   "metadata": {
    "id": "yeBy-Dn5qgAG"
   },
   "outputs": [],
   "source": [
    "from google.colab import drive\n",
    "drive.mount('/content/drive')"
   ]
  },
  {
   "cell_type": "code",
   "execution_count": null,
   "metadata": {
    "id": "BM-v1BZXaOQR"
   },
   "outputs": [],
   "source": [
    "!pip install opendatasets"
   ]
  },
  {
   "cell_type": "code",
   "execution_count": null,
   "metadata": {
    "id": "-SM7FyypbyjO"
   },
   "outputs": [],
   "source": [
    "%cd /content/drive/MyDrive/Colab Notebooks/Faster-RCNN/Road-Pothole-Detection\n",
    "\n",
    "import opendatasets as od\n",
    "od.download(\"https://www.kaggle.com/datasets/sovitrath/road-pothole-images-for-pothole-detection\")"
   ]
  },
  {
   "cell_type": "code",
   "execution_count": null,
   "metadata": {
    "id": "3HzBxDgPfT_l"
   },
   "outputs": [],
   "source": [
    "%cd /content/drive/MyDrive/Colab Notebooks/Faster-RCNN/Road-Pothole-Detection/src\n",
    "!python dataset.py"
   ]
  },
  {
   "cell_type": "markdown",
   "metadata": {
    "id": "lGBo3H4DfQzl"
   },
   "source": [
    "#Train & Infer"
   ]
  },
  {
   "cell_type": "code",
   "execution_count": null,
   "metadata": {
    "id": "AEx0ULGTfU_L"
   },
   "outputs": [],
   "source": [
    "%cd /content/drive/MyDrive/Colab Notebooks/Faster-RCNN/Road-Pothole-Detection/src\n",
    "!python train.py"
   ]
  },
  {
   "cell_type": "code",
   "execution_count": null,
   "metadata": {
    "colab": {
     "base_uri": "https://localhost:8080/"
    },
    "executionInfo": {
     "elapsed": 71230,
     "status": "ok",
     "timestamp": 1664264487033,
     "user": {
      "displayName": "20020054 Trịnh Ngọc Huỳnh",
      "userId": "03940819195820668782"
     },
     "user_tz": -420
    },
    "id": "OJ6mAULH0PDq",
    "outputId": "3041143c-b883-4bd9-9681-d6aaf3b73b4c"
   },
   "outputs": [
    {
     "name": "stdout",
     "output_type": "stream",
     "text": [
      "/content/drive/MyDrive/Colab Notebooks/Faster-RCNN/Road-Pothole-Detection/src\n",
      "/usr/local/lib/python3.7/dist-packages/torchvision/models/_utils.py:209: UserWarning: The parameter 'pretrained' is deprecated since 0.13 and will be removed in 0.15, please use 'weights' instead.\n",
      "  f\"The parameter '{pretrained_param}' is deprecated since 0.13 and will be removed in 0.15, \"\n",
      "/usr/local/lib/python3.7/dist-packages/torchvision/models/_utils.py:223: UserWarning: Arguments other than a weight enum or `None` for 'weights' are deprecated since 0.13 and will be removed in 0.15. The current behavior is equivalent to passing `weights=FasterRCNN_ResNet50_FPN_Weights.COCO_V1`. You can also use `weights=FasterRCNN_ResNet50_FPN_Weights.DEFAULT` to get the most up-to-date weights.\n",
      "  warnings.warn(msg)\n",
      "Downloading: \"https://download.pytorch.org/models/fasterrcnn_resnet50_fpn_coco-258fb6c6.pth\" to /root/.cache/torch/hub/checkpoints/fasterrcnn_resnet50_fpn_coco-258fb6c6.pth\n",
      "100% 160M/160M [00:00<00:00, 175MB/s]\n",
      "Validation instances: 628\n",
      "  0% 0/628 [00:00<?, ?it/s]\n",
      "Image 1 done...\n",
      "--------------------------------------------------\n",
      "  0% 1/628 [00:07<1:20:44,  7.73s/it]\n",
      "Image 2 done...\n",
      "--------------------------------------------------\n",
      "  0% 2/628 [00:09<41:32,  3.98s/it]  \n",
      "Image 3 done...\n",
      "--------------------------------------------------\n",
      "  0% 3/628 [00:10<27:31,  2.64s/it]\n",
      "Image 4 done...\n",
      "--------------------------------------------------\n",
      "  1% 4/628 [00:11<22:20,  2.15s/it]\n",
      "Image 5 done...\n",
      "--------------------------------------------------\n",
      "  1% 5/628 [00:12<18:37,  1.79s/it]\n",
      "Image 6 done...\n",
      "--------------------------------------------------\n",
      "  1% 6/628 [00:14<17:57,  1.73s/it]\n",
      "Image 7 done...\n",
      "--------------------------------------------------\n",
      "  1% 7/628 [00:33<1:15:48,  7.33s/it]\n",
      "Image 8 done...\n",
      "--------------------------------------------------\n",
      "  1% 8/628 [00:33<53:23,  5.17s/it]  \n",
      "Image 9 done...\n",
      "--------------------------------------------------\n",
      "  1% 9/628 [00:34<38:23,  3.72s/it]\n",
      "Image 10 done...\n",
      "--------------------------------------------------\n",
      "  2% 10/628 [00:34<28:10,  2.74s/it]\n",
      "Image 11 done...\n",
      "--------------------------------------------------\n",
      "  2% 11/628 [00:35<21:12,  2.06s/it]\n",
      "Image 12 done...\n",
      "--------------------------------------------------\n",
      "  2% 12/628 [00:35<16:23,  1.60s/it]\n",
      "Image 13 done...\n",
      "--------------------------------------------------\n",
      "  2% 13/628 [00:36<13:03,  1.27s/it]\n",
      "Image 14 done...\n",
      "--------------------------------------------------\n",
      "  2% 14/628 [00:36<10:42,  1.05s/it]\n",
      "Image 15 done...\n",
      "--------------------------------------------------\n",
      "  2% 15/628 [00:37<09:05,  1.12it/s]\n",
      "Image 16 done...\n",
      "--------------------------------------------------\n",
      "  3% 16/628 [00:37<07:57,  1.28it/s]\n",
      "Image 17 done...\n",
      "--------------------------------------------------\n",
      "  3% 17/628 [00:38<07:11,  1.42it/s]\n",
      "Image 18 done...\n",
      "--------------------------------------------------\n",
      "  3% 18/628 [00:38<06:38,  1.53it/s]\n",
      "Image 19 done...\n",
      "--------------------------------------------------\n",
      "  3% 19/628 [00:39<06:21,  1.59it/s]\n",
      "Image 20 done...\n",
      "--------------------------------------------------\n",
      "  3% 19/628 [00:40<21:25,  2.11s/it]\n",
      "TEST PREDICTIONS COMPLETE\n"
     ]
    }
   ],
   "source": [
    "%cd /content/drive/MyDrive/Colab Notebooks/Faster-RCNN/Road-Pothole-Detection/src\n",
    "!python test.py"
   ]
  }
 ],
 "metadata": {
  "accelerator": "GPU",
  "colab": {
   "authorship_tag": "ABX9TyNEkuf4vHWAWFBLqmbY0j9R",
   "collapsed_sections": [
    "lGBo3H4DfQzl"
   ],
   "mount_file_id": "1JxQO_ZMMRrpgZfzx84pX4TogBr8zWPjc",
   "provenance": [],
   "toc_visible": true
  },
  "kernelspec": {
   "display_name": "Python 3",
   "name": "python3"
  },
  "language_info": {
   "name": "python"
  }
 },
 "nbformat": 4,
 "nbformat_minor": 0
}
